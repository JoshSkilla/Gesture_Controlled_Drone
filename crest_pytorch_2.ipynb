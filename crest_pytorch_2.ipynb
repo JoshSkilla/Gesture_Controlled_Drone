{
 "cells": [
  {
   "cell_type": "code",
   "execution_count": 25,
   "id": "5d4f0ca7-899d-4bd4-9565-695ab5359f14",
   "metadata": {},
   "outputs": [],
   "source": [
    "import cv2\n",
    "import numpy as np\n",
    "import os\n",
    "import PIL\n",
    "from PIL import Image\n",
    "import random\n",
    "from tqdm import tqdm\n",
    "import pickle\n",
    "\n",
    "\n",
    "import torch\n",
    "import glob\n",
    "import torch.nn as nn\n",
    "import torch.nn.functional as func\n",
    "from torchvision.transforms import transforms\n",
    "from torch.utils.data import DataLoader\n",
    "from torch.optim import Adam\n",
    "from torch.autograd import Variable\n",
    "import torchvision\n",
    "import pathlib\n",
    "3\n",
    "import matplotlib.pyplot as plt\n",
    "import matplotlib.image as mpimg\n",
    "%matplotlib inline"
   ]
  },
  {
   "cell_type": "code",
   "execution_count": 26,
   "id": "03e74c55-71a3-465b-9a24-582adfb520d4",
   "metadata": {},
   "outputs": [],
   "source": [
    "train_path='C:/Users/joshu/OneDrive/A levels/Other/Crest/Crest code/imgRecognition/signal_frames/silhouettes'\n",
    "pred_path='C:/Users/joshu/OneDrive/A levels/Other/Crest/Crest code/imgRecognition/signal_frames/pred_silhouettes'"
   ]
  },
  {
   "cell_type": "code",
   "execution_count": 27,
   "id": "bb883234-6c08-4f5c-ae50-5b0c28da99b8",
   "metadata": {},
   "outputs": [
    {
     "name": "stdout",
     "output_type": "stream",
     "text": [
      "['backwards', 'downwards', 'forwards', 'left', 'right', 'upwards']\n"
     ]
    }
   ],
   "source": [
    "#categories\n",
    "root=pathlib.Path(train_path)\n",
    "classes=sorted([j.name.split('/')[-1] for j in root.iterdir()])\n",
    "print(classes)"
   ]
  },
  {
   "cell_type": "code",
   "execution_count": 28,
   "id": "6bb695e5-4f83-4d62-9400-4eb5b4a8e7a9",
   "metadata": {},
   "outputs": [],
   "source": [
    "#CNN Network\n",
    "\n",
    "\n",
    "class ConvNet(nn.Module):\n",
    "    def __init__(self,num_classes=6):\n",
    "        super(ConvNet,self).__init__()\n",
    "        \n",
    "        #Output size after convolution filter\n",
    "        #((w-f+2P)/s) +1\n",
    "        #((width-kernel_size+2Padding)/stride) +1\n",
    "        \n",
    "        #Input shape= (64,1,150,150)\n",
    "        #batch_size = 64\n",
    "        #channels =1 hopefully not 3 fix?\n",
    "        #height/width=150\n",
    "        #stride=1\n",
    "        #Padding=1\n",
    "        #kernel_size(f)=3\n",
    "        #(batch size,channels,height width)\n",
    "        \n",
    "        self.conv1=nn.Conv2d(in_channels=1,out_channels=12,kernel_size=3,stride=1,padding=1)\n",
    "        #Shape= (64,12,150,150)\n",
    "        self.bn1=nn.BatchNorm2d(num_features=12)\n",
    "        #normalisation\n",
    "        #Shape= (64,12,150,150)\n",
    "        self.relu1=nn.ReLU()\n",
    "        #Shape= (64,12,150,150)\n",
    "        \n",
    "        self.pool=nn.MaxPool2d(kernel_size=2)\n",
    "        #Reduce the image size be factor 2\n",
    "        #Shape= (64,12,75,75)\n",
    "        \n",
    "        \n",
    "        self.conv2=nn.Conv2d(in_channels=12,out_channels=20,kernel_size=3,stride=1,padding=1)\n",
    "        #Shape= (64,20,75,75)\n",
    "        self.relu2=nn.ReLU()\n",
    "        #Shape= (64,20,75,75)\n",
    "        \n",
    "        \n",
    "        \n",
    "        self.conv3=nn.Conv2d(in_channels=20,out_channels=32,kernel_size=3,stride=1,padding=1)\n",
    "        #Shape= (64,32,75,75)\n",
    "        self.bn3=nn.BatchNorm2d(num_features=32)\n",
    "        #Shape= (64,32,75,75)\n",
    "        self.relu3=nn.ReLU()\n",
    "        #Shape= (64,32,75,75)\n",
    "        \n",
    "        \n",
    "        self.fc=nn.Linear(in_features=75 * 75 * 32,out_features=num_classes)\n",
    "        \n",
    "        \n",
    "        \n",
    "        #Feed forwad function\n",
    "        \n",
    "    def forward(self,input):\n",
    "        output=self.conv1(input)\n",
    "        output=self.bn1(output)\n",
    "        output=self.relu1(output)\n",
    "            \n",
    "        output=self.pool(output)\n",
    "            \n",
    "        output=self.conv2(output)\n",
    "        output=self.relu2(output)\n",
    "            \n",
    "        output=self.conv3(output)\n",
    "        output=self.bn3(output)\n",
    "        output=self.relu3(output)\n",
    "            \n",
    "            \n",
    "            #Above output will be in matrix form, with shape (256,32,75,75)\n",
    "            \n",
    "        output=output.view(-1,32*75*75)\n",
    "            \n",
    "            \n",
    "        output=self.fc(output)\n",
    "            \n",
    "        return output\n",
    "            \n",
    "        "
   ]
  },
  {
   "cell_type": "code",
   "execution_count": 29,
   "id": "caa089b9-9755-446d-aed1-4e7e2f941447",
   "metadata": {},
   "outputs": [
    {
     "data": {
      "text/plain": [
       "ConvNet(\n",
       "  (conv1): Conv2d(1, 12, kernel_size=(3, 3), stride=(1, 1), padding=(1, 1))\n",
       "  (bn1): BatchNorm2d(12, eps=1e-05, momentum=0.1, affine=True, track_running_stats=True)\n",
       "  (relu1): ReLU()\n",
       "  (pool): MaxPool2d(kernel_size=2, stride=2, padding=0, dilation=1, ceil_mode=False)\n",
       "  (conv2): Conv2d(12, 20, kernel_size=(3, 3), stride=(1, 1), padding=(1, 1))\n",
       "  (relu2): ReLU()\n",
       "  (conv3): Conv2d(20, 32, kernel_size=(3, 3), stride=(1, 1), padding=(1, 1))\n",
       "  (bn3): BatchNorm2d(32, eps=1e-05, momentum=0.1, affine=True, track_running_stats=True)\n",
       "  (relu3): ReLU()\n",
       "  (fc): Linear(in_features=180000, out_features=6, bias=True)\n",
       ")"
      ]
     },
     "execution_count": 29,
     "metadata": {},
     "output_type": "execute_result"
    }
   ],
   "source": [
    "checkpoint=torch.load('best_checkpoint.pth')\n",
    "model=ConvNet(num_classes=6)\n",
    "model.load_state_dict(checkpoint)\n",
    "model.eval()"
   ]
  },
  {
   "cell_type": "code",
   "execution_count": 30,
   "id": "2cb1698e-aa25-4d5d-8a19-7f63f1649efd",
   "metadata": {},
   "outputs": [],
   "source": [
    "#Transforms\n",
    "transformer=transforms.Compose([\n",
    "    transforms.Grayscale(num_output_channels=1),\n",
    "    transforms.Resize((150,150)),\n",
    "    transforms.ToTensor(),  #0-255 to 0-1, numpy to tensors\n",
    "    transforms.Normalize((0.5), (0.5))\n",
    "    \n",
    "])"
   ]
  },
  {
   "cell_type": "code",
   "execution_count": 31,
   "id": "b8246366-a837-468f-a270-2de69dd8705b",
   "metadata": {},
   "outputs": [],
   "source": [
    "#prediction function\n",
    "def prediction(img_path,transformer):\n",
    "    \n",
    "    image=Image.open(img_path)\n",
    "    \n",
    "    image_tensor=transformer(image).float()\n",
    "    \n",
    "    \n",
    "    image_tensor=image_tensor.unsqueeze_(0)\n",
    "    \n",
    "    #if torch.cuda.is_available():\n",
    "    #    image_tensor.cuda()\n",
    "        \n",
    "\n",
    "    output=model(Variable(image_tensor))\n",
    "    \n",
    "    index=output.data.numpy().argmax()\n",
    "    \n",
    "    pred=classes[index]\n",
    "    \n",
    "    return pred"
   ]
  },
  {
   "cell_type": "code",
   "execution_count": 32,
   "id": "9c3651a7-d2f5-475c-9c6f-532bf954f960",
   "metadata": {},
   "outputs": [],
   "source": [
    "images_path=glob.glob(pred_path+'/*.jpg')"
   ]
  },
  {
   "cell_type": "code",
   "execution_count": 33,
   "id": "c8c04c56-3489-44e9-b9ee-dd14c3e274cb",
   "metadata": {},
   "outputs": [],
   "source": [
    "pred_dict={}\n",
    "\n",
    "for i in images_path:\n",
    "    pred_dict[i[i.rfind('/')+1:]]=prediction(i,transformer)"
   ]
  },
  {
   "cell_type": "code",
   "execution_count": 34,
   "id": "348c8716-f9f6-4bad-a8bc-ef6bc6d297dc",
   "metadata": {},
   "outputs": [
    {
     "data": {
      "text/plain": [
       "{'pred_silhouettes\\\\backwards_1.jpg': 'backwards',\n",
       " 'pred_silhouettes\\\\backwards_267.jpg': 'backwards',\n",
       " 'pred_silhouettes\\\\backwards_348.jpg': 'backwards',\n",
       " 'pred_silhouettes\\\\backwards_42.jpg': 'backwards',\n",
       " 'pred_silhouettes\\\\backwards_689.jpg': 'backwards',\n",
       " 'pred_silhouettes\\\\backwards_fake_1.jpg': 'backwards',\n",
       " 'pred_silhouettes\\\\backwards_new_1.jpg': 'backwards',\n",
       " 'pred_silhouettes\\\\backwards_new_2.jpg': 'backwards',\n",
       " 'pred_silhouettes\\\\backwards_new_3.jpg': 'backwards',\n",
       " 'pred_silhouettes\\\\backwards_new_4.jpg': 'backwards',\n",
       " 'pred_silhouettes\\\\backwards_new_5.jpg': 'backwards',\n",
       " 'pred_silhouettes\\\\blank_1.jpg': 'forwards',\n",
       " 'pred_silhouettes\\\\downwards_1.jpg': 'downwards',\n",
       " 'pred_silhouettes\\\\downwards_14.jpg': 'downwards',\n",
       " 'pred_silhouettes\\\\downwards_160.jpg': 'downwards',\n",
       " 'pred_silhouettes\\\\downwards_27.jpg': 'downwards',\n",
       " 'pred_silhouettes\\\\downwards_3.jpg': 'downwards',\n",
       " 'pred_silhouettes\\\\downwards_370.jpg': 'downwards',\n",
       " 'pred_silhouettes\\\\downwards_505.jpg': 'downwards',\n",
       " 'pred_silhouettes\\\\downwards_667.jpg': 'downwards',\n",
       " 'pred_silhouettes\\\\downwards_686.jpg': 'downwards',\n",
       " 'pred_silhouettes\\\\downwards_696.jpg': 'downwards',\n",
       " 'pred_silhouettes\\\\forwards_250.jpg': 'forwards',\n",
       " 'pred_silhouettes\\\\forwards_3.jpg': 'forwards',\n",
       " 'pred_silhouettes\\\\forwards_32.jpg': 'forwards',\n",
       " 'pred_silhouettes\\\\forwards_326.jpg': 'forwards',\n",
       " 'pred_silhouettes\\\\forwards_335.jpg': 'forwards',\n",
       " 'pred_silhouettes\\\\forwards_342.jpg': 'forwards',\n",
       " 'pred_silhouettes\\\\forwards_38.jpg': 'forwards',\n",
       " 'pred_silhouettes\\\\forwards_502.jpg': 'forwards',\n",
       " 'pred_silhouettes\\\\forwards_600.jpg': 'forwards',\n",
       " 'pred_silhouettes\\\\forwards_700.jpg': 'forwards',\n",
       " 'pred_silhouettes\\\\forwards_fake_1.jpg': 'forwards',\n",
       " 'pred_silhouettes\\\\forwards_no_arms_1.jpg': 'forwards',\n",
       " 'pred_silhouettes\\\\left_198.jpg': 'left',\n",
       " 'pred_silhouettes\\\\left_215.jpg': 'left',\n",
       " 'pred_silhouettes\\\\left_226.jpg': 'left',\n",
       " 'pred_silhouettes\\\\left_25.jpg': 'left',\n",
       " 'pred_silhouettes\\\\left_26.jpg': 'left',\n",
       " 'pred_silhouettes\\\\left_3.jpg': 'left',\n",
       " 'pred_silhouettes\\\\left_474.jpg': 'left',\n",
       " 'pred_silhouettes\\\\left_680.jpg': 'left',\n",
       " 'pred_silhouettes\\\\left_700.jpg': 'left',\n",
       " 'pred_silhouettes\\\\left_fake_1.jpg': 'left',\n",
       " 'pred_silhouettes\\\\left_fake_2.jpg': 'left',\n",
       " 'pred_silhouettes\\\\right_199.jpg': 'right',\n",
       " 'pred_silhouettes\\\\right_204.jpg': 'right',\n",
       " 'pred_silhouettes\\\\right_220.jpg': 'right',\n",
       " 'pred_silhouettes\\\\right_240.jpg': 'right',\n",
       " 'pred_silhouettes\\\\right_26.jpg': 'right',\n",
       " 'pred_silhouettes\\\\right_37.jpg': 'right',\n",
       " 'pred_silhouettes\\\\right_420.jpg': 'right',\n",
       " 'pred_silhouettes\\\\right_423.jpg': 'right',\n",
       " 'pred_silhouettes\\\\right_518.jpg': 'right',\n",
       " 'pred_silhouettes\\\\right_590.jpg': 'right',\n",
       " 'pred_silhouettes\\\\upwards_114.jpg': 'upwards',\n",
       " 'pred_silhouettes\\\\upwards_127.jpg': 'upwards',\n",
       " 'pred_silhouettes\\\\upwards_14.jpg': 'upwards',\n",
       " 'pred_silhouettes\\\\upwards_258.jpg': 'upwards',\n",
       " 'pred_silhouettes\\\\upwards_37.jpg': 'upwards',\n",
       " 'pred_silhouettes\\\\upwards_513.jpg': 'upwards',\n",
       " 'pred_silhouettes\\\\upwards_610.jpg': 'upwards',\n",
       " 'pred_silhouettes\\\\upwards_614.jpg': 'upwards',\n",
       " 'pred_silhouettes\\\\upwards_677.jpg': 'upwards'}"
      ]
     },
     "execution_count": 34,
     "metadata": {},
     "output_type": "execute_result"
    }
   ],
   "source": [
    "pred_dict"
   ]
  },
  {
   "cell_type": "code",
   "execution_count": 35,
   "id": "35af468a-1a9c-4c66-88fd-527743447525",
   "metadata": {},
   "outputs": [],
   "source": [
    "DATADIR = \"C:/Users/joshu/OneDrive/A levels/Other/Crest/Crest code/imgRecognition/signal_frames/pred_silhouettes\"\n",
    "\n",
    "#CATEGORIES = [\"backwards\", \"downwards\", \"forwards\", \"left\", \"right\", \"upwards\"]"
   ]
  },
  {
   "cell_type": "markdown",
   "id": "0e5c466f-07bc-41d8-b70b-be24a9cdf789",
   "metadata": {},
   "source": [
    "### Applying model to pred data"
   ]
  },
  {
   "cell_type": "code",
   "execution_count": 36,
   "id": "ce4b5512-57b6-4a94-b895-9ea49c4aa711",
   "metadata": {},
   "outputs": [
    {
     "data": {
      "image/png": "[encoded data removed]",
      "text/plain": [
       "<Figure size 432x288 with 12 Axes>"
      ]
     },
     "metadata": {},
     "output_type": "display_data"
    }
   ],
   "source": [
    "fig = plt.figure()\n",
    "for i in range(12):\n",
    "    path = DATADIR\n",
    "    file = random.choice(os.listdir(path))\n",
    "    plt.subplot(3,4,i+1)\n",
    "    plt.tight_layout()\n",
    "    img_array = cv2.imread(os.path.join(path,file) ,cv2.IMREAD_GRAYSCALE)  \n",
    "    plt.imshow(img_array, cmap='gray', interpolation='none')  # graph it\n",
    "    prediction_pred = prediction(path+\"/\"+file,transformer)\n",
    "    label = file.split('_', 1)[0].replace('.', '')\n",
    "    #plt.title((\"Label: \" + label + \"   \" + \"Prediction: \" + prediction_pred),c='black',fontsize = 9)\n",
    "    plt.title((\"Prediction: \" + prediction_pred),c='black',fontsize = 9)\n",
    "    if label != prediction_pred:\n",
    "        plt.title((\"Prediction: \" + prediction_pred + \" \\n Label: \" + label),fontsize = 9,c='red')\n",
    "    #plt.show()  # display!\n",
    "\n",
    "    plt.xticks([])\n",
    "    plt.yticks([])\n",
    "#note: these are technically unlabelled but I wrote their made up label in the file name"
   ]
  },
  {
   "cell_type": "code",
   "execution_count": 37,
   "id": "bea730ac-5bce-42b0-9474-6beca6f2cd31",
   "metadata": {},
   "outputs": [],
   "source": [
    "#prediction function\n",
    "def prediction(img_path,transformer):\n",
    "    \n",
    "    image=Image.open(img_path)\n",
    "    \n",
    "    image_tensor=transformer(image).float()\n",
    "    \n",
    "    \n",
    "    image_tensor=image_tensor.unsqueeze_(0)\n",
    "    \n",
    "    #if torch.cuda.is_available():\n",
    "    #    image_tensor.cuda()\n",
    "        \n",
    "    input=Variable(image_tensor)\n",
    "    \n",
    "    \n",
    "    output=model(input)\n",
    "    \n",
    "    index=output.data.numpy().argmax()\n",
    "    \n",
    "    pred=classes[index]\n",
    "    \n",
    "    output = func.softmax(output,dim = 1)\n",
    "    max_output,prediction_output = torch.max(output,dim=1)\n",
    "    max_output = max_output.detach()\n",
    "    max_output = max_output.numpy()*100\n",
    "    max_output = max_output[0]\n",
    "    \n",
    "    return (max_output,pred)"
   ]
  },
  {
   "cell_type": "code",
   "execution_count": 38,
   "id": "a102ee90-f2eb-403a-8898-10d9d97891ce",
   "metadata": {},
   "outputs": [
    {
     "name": "stdout",
     "output_type": "stream",
     "text": [
      "tensor([[  8.9370, -20.9948,  -1.1384,  99.1954, -83.8852,   1.9763]],\n",
      "       grad_fn=<AddmmBackward>)\n",
      "3\n",
      "left\n"
     ]
    }
   ],
   "source": [
    "path = DATADIR\n",
    "file = 'left_fake_1.jpg'\n",
    "\n",
    "img_path = path+\"/\"+file\n",
    "\n",
    "image=Image.open(img_path)\n",
    "\n",
    "image_tensor=transformer(image).float()\n",
    "\n",
    "image_tensor=image_tensor.unsqueeze_(0)\n",
    "\n",
    "output=model(Variable(image_tensor))\n",
    "print(output)\n",
    "\n",
    "index=output.data.numpy().argmax()\n",
    "print(index)\n",
    "\n",
    "pred=classes[index]\n",
    "print(pred)"
   ]
  },
  {
   "cell_type": "code",
   "execution_count": 39,
   "id": "fea6566a-2c45-4606-bb6f-202c52967e54",
   "metadata": {},
   "outputs": [
    {
     "data": {
      "text/plain": [
       "torch.Size([1, 6])"
      ]
     },
     "execution_count": 39,
     "metadata": {},
     "output_type": "execute_result"
    }
   ],
   "source": [
    "output.data.shape"
   ]
  },
  {
   "cell_type": "code",
   "execution_count": 40,
   "id": "2c6aaebf-9ba6-493d-ab66-ec10293e3778",
   "metadata": {},
   "outputs": [
    {
     "data": {
      "text/plain": [
       "tensor([[  8.9370, -20.9948,  -1.1384,  99.1954, -83.8852,   1.9763]])"
      ]
     },
     "execution_count": 40,
     "metadata": {},
     "output_type": "execute_result"
    }
   ],
   "source": [
    "output.data"
   ]
  },
  {
   "cell_type": "code",
   "execution_count": 41,
   "id": "1ed87c42-a707-4508-a608-d8ea6efdedcc",
   "metadata": {},
   "outputs": [
    {
     "name": "stdout",
     "output_type": "stream",
     "text": [
      "Total:  tensor(1.)\n"
     ]
    },
    {
     "data": {
      "text/plain": [
       "tensor([[6.3281e-40, 0.0000e+00, 2.6625e-44, 1.0000e+00, 0.0000e+00, 5.9976e-43]])"
      ]
     },
     "execution_count": 41,
     "metadata": {},
     "output_type": "execute_result"
    }
   ],
   "source": [
    "output = func.softmax(output,dim = 1)\n",
    "print(\"Total: \",output.data[:1].sum())\n",
    "output.data[:1]"
   ]
  },
  {
   "cell_type": "code",
   "execution_count": 42,
   "id": "433fa21b-3c7c-4349-82c4-6333caa8e4ae",
   "metadata": {},
   "outputs": [
    {
     "name": "stdout",
     "output_type": "stream",
     "text": [
      "tensor([1.], grad_fn=<MaxBackward0>)\n",
      "tensor([3])\n",
      "tensor([1.])\n",
      "[100.]\n",
      "left\n"
     ]
    }
   ],
   "source": [
    "max_output,prediction_output = torch.max(output,dim=1)\n",
    "print(max_output)\n",
    "max_output = max_output.detach()\n",
    "print(prediction_output)\n",
    "print(max_output)\n",
    "max_output = max_output.numpy()*100\n",
    "print(max_output)\n",
    "print(classes[prediction_output])"
   ]
  },
  {
   "cell_type": "markdown",
   "id": "93eb859c-b365-4bba-939d-8d4ed5fa35ad",
   "metadata": {},
   "source": [
    "### For testing images at their exact location"
   ]
  },
  {
   "cell_type": "code",
   "execution_count": 43,
   "id": "cef0147e-4db5-4190-9a98-4ac2f9ec745c",
   "metadata": {},
   "outputs": [],
   "source": [
    "def testing_img(file):\n",
    "    path = \"C:/Users/joshu/OneDrive/A levels/Other/Crest/Crest code/imgRecognition/signal_frames/pred_silhouettes\"\n",
    "    #file = random.choice(os.listdir(path))\n",
    "    img_array = cv2.imread(os.path.join(path,file) ,cv2.IMREAD_GRAYSCALE)\n",
    "    plt.imshow(img_array, cmap='gray', interpolation='none')\n",
    "    prediction_pred = prediction(path+\"/\"+file,transformer)\n",
    "    certainty = str(prediction_pred[0])\n",
    "    prediction_pred = prediction_pred[1]\n",
    "    label = file.split('_', 1)[0].replace('.', '')\n",
    "    plt.title((\"Prediction: \" + prediction_pred + \" \\n Label: \" + label + \" \\n Certainty: \" + certainty),c='black',fontsize = 12.5)\n",
    "    if label != prediction_pred:\n",
    "        plt.title((\"Prediction: \" + prediction_pred + \" \\n Label: \" + label + \" \\n Certainty: \" + certainty),fontsize = 12.5,c='red')"
   ]
  },
  {
   "cell_type": "code",
   "execution_count": 44,
   "id": "12631446-3216-44fc-8e74-843db6396b1a",
   "metadata": {},
   "outputs": [
    {
     "data": {
      "image/png": "[encoded data removed]",
      "text/plain": [
       "<Figure size 432x288 with 1 Axes>"
      ]
     },
     "metadata": {
      "needs_background": "light"
     },
     "output_type": "display_data"
    }
   ],
   "source": [
    "#testing model against fake images drawn in 3D paint\n",
    "testing_img('left_fake_2.jpg')"
   ]
  },
  {
   "cell_type": "code",
   "execution_count": 45,
   "id": "f626e3b8-3b38-42f0-bb3f-1fe5ef2a1ff1",
   "metadata": {},
   "outputs": [
    {
     "data": {
      "image/png": "[encoded data removed]",
      "text/plain": [
       "<Figure size 432x288 with 1 Axes>"
      ]
     },
     "metadata": {
      "needs_background": "light"
     },
     "output_type": "display_data"
    }
   ],
   "source": [
    "testing_img('left_fake_1.jpg')"
   ]
  },
  {
   "cell_type": "code",
   "execution_count": 46,
   "id": "147bfb4b-c71d-49af-b893-10a1a79058d6",
   "metadata": {},
   "outputs": [
    {
     "data": {
      "image/png": "[encoded data removed]",
      "text/plain": [
       "<Figure size 432x288 with 1 Axes>"
      ]
     },
     "metadata": {
      "needs_background": "light"
     },
     "output_type": "display_data"
    }
   ],
   "source": [
    "testing_img('forwards_no_arms_1.jpg')"
   ]
  },
  {
   "cell_type": "code",
   "execution_count": 47,
   "id": "0e72c73f-1f8a-4dc2-8d16-2a0634fca483",
   "metadata": {},
   "outputs": [
    {
     "data": {
      "image/png": "[encoded data removed]",
      "text/plain": [
       "<Figure size 432x288 with 1 Axes>"
      ]
     },
     "metadata": {
      "needs_background": "light"
     },
     "output_type": "display_data"
    }
   ],
   "source": [
    "testing_img('blank_1.jpg')"
   ]
  },
  {
   "cell_type": "code",
   "execution_count": 48,
   "id": "9734312c-28a0-4c44-8e8b-ad3a007ea950",
   "metadata": {},
   "outputs": [
    {
     "data": {
      "image/png": "[encoded data removed]",
      "text/plain": [
       "<Figure size 432x288 with 1 Axes>"
      ]
     },
     "metadata": {
      "needs_background": "light"
     },
     "output_type": "display_data"
    }
   ],
   "source": [
    "path = \"C:/Users/joshu/OneDrive/A levels/Other/Crest/Crest code/imgRecognition/signal_frames/pred_silhouettes\"\n",
    "testing_img(random.choice(os.listdir(path)))"
   ]
  },
  {
   "cell_type": "code",
   "execution_count": null,
   "id": "2ca2da13-6098-4f95-a2a4-3a25811e1530",
   "metadata": {},
   "outputs": [],
   "source": []
  }
 ],
 "metadata": {
  "kernelspec": {
   "display_name": "Python 3",
   "language": "python",
   "name": "python3"
  },
  "language_info": {
   "codemirror_mode": {
    "name": "ipython",
    "version": 3
   },
   "file_extension": ".py",
   "mimetype": "text/x-python",
   "name": "python",
   "nbconvert_exporter": "python",
   "pygments_lexer": "ipython3",
   "version": "3.8.8"
  }
 },
 "nbformat": 4,
 "nbformat_minor": 5
}
